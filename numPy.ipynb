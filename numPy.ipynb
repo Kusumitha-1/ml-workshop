{
  "nbformat": 4,
  "nbformat_minor": 0,
  "metadata": {
    "colab": {
      "provenance": [],
      "authorship_tag": "ABX9TyOmSdzAVtJWUcSn3AXrXnMU",
      "include_colab_link": true
    },
    "kernelspec": {
      "name": "python3",
      "display_name": "Python 3"
    },
    "language_info": {
      "name": "python"
    }
  },
  "cells": [
    {
      "cell_type": "markdown",
      "metadata": {
        "id": "view-in-github",
        "colab_type": "text"
      },
      "source": [
        "<a href=\"https://colab.research.google.com/github/Kusumitha-1/ml-workshop/blob/main/numPy.ipynb\" target=\"_parent\"><img src=\"https://colab.research.google.com/assets/colab-badge.svg\" alt=\"Open In Colab\"/></a>"
      ]
    },
    {
      "cell_type": "code",
      "execution_count": 2,
      "metadata": {
        "id": "LOWuSijW5AVM"
      },
      "outputs": [],
      "source": [
        "import numpy as np"
      ]
    },
    {
      "cell_type": "markdown",
      "source": [
        "**NumPy Array collection**"
      ],
      "metadata": {
        "id": "SGI4Gtmx5RYJ"
      }
    },
    {
      "cell_type": "code",
      "source": [
        "list=[1,2,3,4,5]\n",
        "array=np.array(list)\n",
        "print(array)"
      ],
      "metadata": {
        "colab": {
          "base_uri": "https://localhost:8080/"
        },
        "id": "YbM4UV1s5oML",
        "outputId": "5b15bf10-6eb6-46fb-e1b8-ac341b2cec07"
      },
      "execution_count": null,
      "outputs": [
        {
          "output_type": "stream",
          "name": "stdout",
          "text": [
            "[1 2 3 4 5]\n"
          ]
        }
      ]
    },
    {
      "cell_type": "code",
      "source": [
        "arr=np.array([2,3,45,45])\n",
        "print(arr)"
      ],
      "metadata": {
        "colab": {
          "base_uri": "https://localhost:8080/"
        },
        "id": "4Kml5Z8_6VJp",
        "outputId": "7c52487f-5f67-45a3-9b2d-e23c8e34439d"
      },
      "execution_count": null,
      "outputs": [
        {
          "output_type": "stream",
          "name": "stdout",
          "text": [
            "[ 2  3 45 45]\n"
          ]
        }
      ]
    },
    {
      "cell_type": "markdown",
      "source": [
        "**Create 2-D Numpy Array**"
      ],
      "metadata": {
        "id": "_TIROlzx6l_o"
      }
    },
    {
      "cell_type": "code",
      "source": [
        "arr2=np.array([[1,2,3,4],[5,6,7,8]])\n",
        "print(arr2)"
      ],
      "metadata": {
        "colab": {
          "base_uri": "https://localhost:8080/"
        },
        "id": "whwk5kPY61gX",
        "outputId": "bc0af8be-9710-4c4f-ae1f-619a2ccef9fc"
      },
      "execution_count": null,
      "outputs": [
        {
          "output_type": "stream",
          "name": "stdout",
          "text": [
            "[[1 2 3 4]\n",
            " [5 6 7 8]]\n"
          ]
        }
      ]
    },
    {
      "cell_type": "markdown",
      "source": [
        "create 3-d array"
      ],
      "metadata": {
        "id": "GN27djqV7qc8"
      }
    },
    {
      "cell_type": "code",
      "source": [
        "arr3=np.array([[[1,2,3],[2,4,5],[3,4,5]],\n",
        "              [[1,2,3],[23,3,4],[5,6,7]] ])\n",
        "print(arr3)\n",
        "\n",
        "print(arr3.size)\n",
        "print(arr3.nbytes)\n"
      ],
      "metadata": {
        "colab": {
          "base_uri": "https://localhost:8080/"
        },
        "id": "FlKm77US7tdS",
        "outputId": "f777027a-bcb0-4220-f0a7-5cdf76675951"
      },
      "execution_count": 9,
      "outputs": [
        {
          "output_type": "stream",
          "name": "stdout",
          "text": [
            "[[[ 1  2  3]\n",
            "  [ 2  4  5]\n",
            "  [ 3  4  5]]\n",
            "\n",
            " [[ 1  2  3]\n",
            "  [23  3  4]\n",
            "  [ 5  6  7]]]\n",
            "18\n",
            "144\n"
          ]
        }
      ]
    },
    {
      "cell_type": "markdown",
      "source": [
        "check datatype of numpy array"
      ],
      "metadata": {
        "id": "ohJS2CvS8tgV"
      }
    },
    {
      "cell_type": "code",
      "source": [
        "arr=np.array([\"a\",\"b\"])\n",
        "print(arr.dtype)"
      ],
      "metadata": {
        "colab": {
          "base_uri": "https://localhost:8080/"
        },
        "id": "VAP_R3fp80wO",
        "outputId": "328426d2-35ed-4a60-a819-0f7987e049e0"
      },
      "execution_count": null,
      "outputs": [
        {
          "output_type": "stream",
          "name": "stdout",
          "text": [
            "<U1\n"
          ]
        }
      ]
    },
    {
      "cell_type": "markdown",
      "source": [
        "dimensions"
      ],
      "metadata": {
        "id": "fcguCaLm9UXm"
      }
    },
    {
      "cell_type": "markdown",
      "source": [],
      "metadata": {
        "id": "PjS0pTeF-Yhe"
      }
    },
    {
      "cell_type": "code",
      "source": [
        "print(arr3.ndim)"
      ],
      "metadata": {
        "colab": {
          "base_uri": "https://localhost:8080/"
        },
        "id": "ErI60_Kn9WKd",
        "outputId": "c6eaa8bf-a27d-43ff-845e-a2a907b522ef"
      },
      "execution_count": null,
      "outputs": [
        {
          "output_type": "stream",
          "name": "stdout",
          "text": [
            "3\n"
          ]
        }
      ]
    },
    {
      "cell_type": "markdown",
      "source": [
        "shape attribute"
      ],
      "metadata": {
        "id": "7ypcYg81-eMI"
      }
    },
    {
      "cell_type": "code",
      "source": [
        "print(arr3.shape)"
      ],
      "metadata": {
        "colab": {
          "base_uri": "https://localhost:8080/"
        },
        "id": "yZLlS_gH-kCu",
        "outputId": "0566cbd8-e025-4f3d-977c-3e83273b2f18"
      },
      "execution_count": null,
      "outputs": [
        {
          "output_type": "stream",
          "name": "stdout",
          "text": [
            "(2, 3, 3)\n"
          ]
        }
      ]
    },
    {
      "cell_type": "markdown",
      "source": [
        "itemsize attribute"
      ],
      "metadata": {
        "id": "Bfz2sejb-74l"
      }
    },
    {
      "cell_type": "code",
      "source": [
        "arr2=np.array([1,2,3],dtype=np.int32)\n",
        "print(arr2.itemsize)\n",
        "print(arr3.itemsize)"
      ],
      "metadata": {
        "colab": {
          "base_uri": "https://localhost:8080/"
        },
        "id": "WvW-2FX9_BPd",
        "outputId": "47c6310a-9d0e-4d3d-ddb0-1ca1df5e2eb8"
      },
      "execution_count": null,
      "outputs": [
        {
          "output_type": "stream",
          "name": "stdout",
          "text": [
            "4\n",
            "8\n"
          ]
        }
      ]
    },
    {
      "cell_type": "markdown",
      "source": [
        "data attribute"
      ],
      "metadata": {
        "id": "j1N8JwsIADsm"
      }
    },
    {
      "cell_type": "code",
      "source": [
        "print(\"data of arr2\",arr2.data)\n",
        "#prints memory adresss"
      ],
      "metadata": {
        "colab": {
          "base_uri": "https://localhost:8080/"
        },
        "id": "E5oweB8BAGe0",
        "outputId": "536374ca-60fb-4807-b217-eee6a9f89c5e"
      },
      "execution_count": null,
      "outputs": [
        {
          "output_type": "stream",
          "name": "stdout",
          "text": [
            "data of arr2 <memory at 0x7b62b4d4f280>\n"
          ]
        }
      ]
    },
    {
      "cell_type": "markdown",
      "source": [
        "access arrya elements using index"
      ],
      "metadata": {
        "id": "eEdvP_SJAlPm"
      }
    },
    {
      "cell_type": "code",
      "source": [
        "print(array[2])\n",
        "print(array[-1])"
      ],
      "metadata": {
        "colab": {
          "base_uri": "https://localhost:8080/"
        },
        "id": "f7cVvCV7Argy",
        "outputId": "45ae1dae-bac8-49a4-cf85-a56ee582bfaa"
      },
      "execution_count": null,
      "outputs": [
        {
          "output_type": "stream",
          "name": "stdout",
          "text": [
            "3\n",
            "5\n"
          ]
        }
      ]
    },
    {
      "cell_type": "markdown",
      "source": [
        "statistical"
      ],
      "metadata": {
        "id": "en1KnPwABe7P"
      }
    },
    {
      "cell_type": "code",
      "source": [
        "arr=np.array([1,2,3,4,5])\n",
        "mean_arr=np.mean(arr)\n",
        "median_arr=np.median(arr)\n",
        "std_arr=np.std(arr)\n",
        "print(mean_arr)\n",
        "print(median_arr)\n",
        "print(std_arr)"
      ],
      "metadata": {
        "id": "olzyjI9RBhtQ",
        "colab": {
          "base_uri": "https://localhost:8080/"
        },
        "outputId": "855c21ab-33b2-46a7-d1a0-583200ec2a88"
      },
      "execution_count": 4,
      "outputs": [
        {
          "output_type": "stream",
          "name": "stdout",
          "text": [
            "3.0\n",
            "3.0\n",
            "1.4142135623730951\n"
          ]
        }
      ]
    },
    {
      "cell_type": "code",
      "source": [
        " marks=np.array([90,80,70,60])\n",
        " print(np.percentile(marks,80))\n",
        " print(np.max(marks))\n",
        " print(np.min(marks))\n",
        " print(marks.nbytes)"
      ],
      "metadata": {
        "colab": {
          "base_uri": "https://localhost:8080/"
        },
        "id": "fZNBS4sV0abT",
        "outputId": "b4af0830-e248-4cef-8525-0d7ef73d805d"
      },
      "execution_count": 8,
      "outputs": [
        {
          "output_type": "stream",
          "name": "stdout",
          "text": [
            "84.0\n",
            "90\n",
            "60\n",
            "32\n"
          ]
        }
      ]
    },
    {
      "cell_type": "code",
      "source": [],
      "metadata": {
        "id": "9CiRew510g4N"
      },
      "execution_count": null,
      "outputs": []
    }
  ]
}